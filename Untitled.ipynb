{
 "cells": [
  {
   "cell_type": "code",
   "execution_count": 14,
   "id": "414b98bb-a0cf-48ef-8e91-c5ddbd38c7e8",
   "metadata": {},
   "outputs": [],
   "source": [
    "import pandas as pd\n",
    "from pathlib import Path\n",
    "\n",
    "csvpath = Path(\"C:/Users/bgore/OneDrive/fintech_workspace/sales.csv\")\n",
    "sales_dataframe = pd.read_csv(csvpath)\n"
   ]
  },
  {
   "cell_type": "code",
   "execution_count": 15,
   "id": "291a5edd-14af-4be2-9d7d-fc37410337b4",
   "metadata": {},
   "outputs": [
    {
     "data": {
      "text/html": [
       "<div>\n",
       "<style scoped>\n",
       "    .dataframe tbody tr th:only-of-type {\n",
       "        vertical-align: middle;\n",
       "    }\n",
       "\n",
       "    .dataframe tbody tr th {\n",
       "        vertical-align: top;\n",
       "    }\n",
       "\n",
       "    .dataframe thead th {\n",
       "        text-align: right;\n",
       "    }\n",
       "</style>\n",
       "<table border=\"1\" class=\"dataframe\">\n",
       "  <thead>\n",
       "    <tr style=\"text-align: right;\">\n",
       "      <th></th>\n",
       "      <th>FullName</th>\n",
       "      <th>Email</th>\n",
       "      <th>Zip</th>\n",
       "      <th>SalePrice</th>\n",
       "    </tr>\n",
       "  </thead>\n",
       "  <tbody>\n",
       "    <tr>\n",
       "      <th>0</th>\n",
       "      <td>Elwanda White</td>\n",
       "      <td>alyre2036@live.com</td>\n",
       "      <td>9236</td>\n",
       "      <td>84.33</td>\n",
       "    </tr>\n",
       "    <tr>\n",
       "      <th>1</th>\n",
       "      <td>Lyndon Elliott</td>\n",
       "      <td>arrowy1873@outlook.com</td>\n",
       "      <td>1330</td>\n",
       "      <td>879.95</td>\n",
       "    </tr>\n",
       "    <tr>\n",
       "      <th>2</th>\n",
       "      <td>Daisey Sellers</td>\n",
       "      <td>toucan2024@outlook.com</td>\n",
       "      <td>7631</td>\n",
       "      <td>907.58</td>\n",
       "    </tr>\n",
       "    <tr>\n",
       "      <th>3</th>\n",
       "      <td>Issac Reeves</td>\n",
       "      <td>asarin1958@gmail.com</td>\n",
       "      <td>81168</td>\n",
       "      <td>545.88</td>\n",
       "    </tr>\n",
       "    <tr>\n",
       "      <th>4</th>\n",
       "      <td>Bradford Kinney</td>\n",
       "      <td>mibound1801@yandex.com</td>\n",
       "      <td>41721</td>\n",
       "      <td>517.49</td>\n",
       "    </tr>\n",
       "  </tbody>\n",
       "</table>\n",
       "</div>"
      ],
      "text/plain": [
       "          FullName                   Email    Zip  SalePrice\n",
       "0    Elwanda White      alyre2036@live.com   9236      84.33\n",
       "1   Lyndon Elliott  arrowy1873@outlook.com   1330     879.95\n",
       "2   Daisey Sellers  toucan2024@outlook.com   7631     907.58\n",
       "3     Issac Reeves    asarin1958@gmail.com  81168     545.88\n",
       "4  Bradford Kinney  mibound1801@yandex.com  41721     517.49"
      ]
     },
     "execution_count": 15,
     "metadata": {},
     "output_type": "execute_result"
    }
   ],
   "source": [
    "sales_dataframe.head()\n"
   ]
  },
  {
   "cell_type": "code",
   "execution_count": 16,
   "id": "8ca6b51a-9072-4969-b34a-5761d2dedb6c",
   "metadata": {},
   "outputs": [
    {
     "data": {
      "text/html": [
       "<div>\n",
       "<style scoped>\n",
       "    .dataframe tbody tr th:only-of-type {\n",
       "        vertical-align: middle;\n",
       "    }\n",
       "\n",
       "    .dataframe tbody tr th {\n",
       "        vertical-align: top;\n",
       "    }\n",
       "\n",
       "    .dataframe thead th {\n",
       "        text-align: right;\n",
       "    }\n",
       "</style>\n",
       "<table border=\"1\" class=\"dataframe\">\n",
       "  <thead>\n",
       "    <tr style=\"text-align: right;\">\n",
       "      <th></th>\n",
       "      <th>FullName</th>\n",
       "      <th>Email</th>\n",
       "      <th>Zip</th>\n",
       "      <th>SalePrice</th>\n",
       "    </tr>\n",
       "  </thead>\n",
       "  <tbody>\n",
       "    <tr>\n",
       "      <th>95</th>\n",
       "      <td>Basil Rios</td>\n",
       "      <td>holloo1814@yahoo.com</td>\n",
       "      <td>8108</td>\n",
       "      <td>937.14</td>\n",
       "    </tr>\n",
       "    <tr>\n",
       "      <th>96</th>\n",
       "      <td>Hipolito Rios</td>\n",
       "      <td>calefacient2049@gmail.com</td>\n",
       "      <td>37077</td>\n",
       "      <td>645.82</td>\n",
       "    </tr>\n",
       "    <tr>\n",
       "      <th>97</th>\n",
       "      <td>Clayton Robertson</td>\n",
       "      <td>coner2015@live.com</td>\n",
       "      <td>57242</td>\n",
       "      <td>128.73</td>\n",
       "    </tr>\n",
       "    <tr>\n",
       "      <th>98</th>\n",
       "      <td>Tony Chandler</td>\n",
       "      <td>sexillion2061@live.com</td>\n",
       "      <td>70135</td>\n",
       "      <td>820.00</td>\n",
       "    </tr>\n",
       "    <tr>\n",
       "      <th>99</th>\n",
       "      <td>Cuc Mcgowan</td>\n",
       "      <td>dispatched1820@gmail.com</td>\n",
       "      <td>70959</td>\n",
       "      <td>764.69</td>\n",
       "    </tr>\n",
       "  </tbody>\n",
       "</table>\n",
       "</div>"
      ],
      "text/plain": [
       "             FullName                      Email    Zip  SalePrice\n",
       "95         Basil Rios       holloo1814@yahoo.com   8108     937.14\n",
       "96      Hipolito Rios  calefacient2049@gmail.com  37077     645.82\n",
       "97  Clayton Robertson         coner2015@live.com  57242     128.73\n",
       "98      Tony Chandler     sexillion2061@live.com  70135     820.00\n",
       "99        Cuc Mcgowan   dispatched1820@gmail.com  70959     764.69"
      ]
     },
     "execution_count": 16,
     "metadata": {},
     "output_type": "execute_result"
    }
   ],
   "source": [
    "sales_dataframe.tail()"
   ]
  },
  {
   "cell_type": "code",
   "execution_count": 17,
   "id": "654dda1f-b63c-4c9d-9cb2-b8da1b4a23d1",
   "metadata": {},
   "outputs": [
    {
     "data": {
      "text/html": [
       "<div>\n",
       "<style scoped>\n",
       "    .dataframe tbody tr th:only-of-type {\n",
       "        vertical-align: middle;\n",
       "    }\n",
       "\n",
       "    .dataframe tbody tr th {\n",
       "        vertical-align: top;\n",
       "    }\n",
       "\n",
       "    .dataframe thead th {\n",
       "        text-align: right;\n",
       "    }\n",
       "</style>\n",
       "<table border=\"1\" class=\"dataframe\">\n",
       "  <thead>\n",
       "    <tr style=\"text-align: right;\">\n",
       "      <th></th>\n",
       "      <th>Full Name</th>\n",
       "      <th>Email</th>\n",
       "      <th>Zip</th>\n",
       "      <th>SalePrice</th>\n",
       "    </tr>\n",
       "  </thead>\n",
       "  <tbody>\n",
       "    <tr>\n",
       "      <th>0</th>\n",
       "      <td>Elwanda White</td>\n",
       "      <td>alyre2036@live.com</td>\n",
       "      <td>9236</td>\n",
       "      <td>84.33</td>\n",
       "    </tr>\n",
       "    <tr>\n",
       "      <th>1</th>\n",
       "      <td>Lyndon Elliott</td>\n",
       "      <td>arrowy1873@outlook.com</td>\n",
       "      <td>1330</td>\n",
       "      <td>879.95</td>\n",
       "    </tr>\n",
       "    <tr>\n",
       "      <th>2</th>\n",
       "      <td>Daisey Sellers</td>\n",
       "      <td>toucan2024@outlook.com</td>\n",
       "      <td>7631</td>\n",
       "      <td>907.58</td>\n",
       "    </tr>\n",
       "    <tr>\n",
       "      <th>3</th>\n",
       "      <td>Issac Reeves</td>\n",
       "      <td>asarin1958@gmail.com</td>\n",
       "      <td>81168</td>\n",
       "      <td>545.88</td>\n",
       "    </tr>\n",
       "    <tr>\n",
       "      <th>4</th>\n",
       "      <td>Bradford Kinney</td>\n",
       "      <td>mibound1801@yandex.com</td>\n",
       "      <td>41721</td>\n",
       "      <td>517.49</td>\n",
       "    </tr>\n",
       "    <tr>\n",
       "      <th>5</th>\n",
       "      <td>Fermina Cobb</td>\n",
       "      <td>kingfisher2013@live.com</td>\n",
       "      <td>16625</td>\n",
       "      <td>889.95</td>\n",
       "    </tr>\n",
       "    <tr>\n",
       "      <th>6</th>\n",
       "      <td>Merrill Andrews</td>\n",
       "      <td>beechy2059@live.com</td>\n",
       "      <td>14344</td>\n",
       "      <td>472.81</td>\n",
       "    </tr>\n",
       "    <tr>\n",
       "      <th>7</th>\n",
       "      <td>Claris Pearson</td>\n",
       "      <td>kiwifruit2045@live.com</td>\n",
       "      <td>51609</td>\n",
       "      <td>218.24</td>\n",
       "    </tr>\n",
       "    <tr>\n",
       "      <th>8</th>\n",
       "      <td>Georgiann Black</td>\n",
       "      <td>tattooage1863@outlook.com</td>\n",
       "      <td>3636</td>\n",
       "      <td>928.54</td>\n",
       "    </tr>\n",
       "    <tr>\n",
       "      <th>9</th>\n",
       "      <td>Carlos Hicks</td>\n",
       "      <td>lengthen1993@yandex.com</td>\n",
       "      <td>5378</td>\n",
       "      <td>824.22</td>\n",
       "    </tr>\n",
       "  </tbody>\n",
       "</table>\n",
       "</div>"
      ],
      "text/plain": [
       "         Full Name                      Email    Zip  SalePrice\n",
       "0    Elwanda White         alyre2036@live.com   9236      84.33\n",
       "1   Lyndon Elliott     arrowy1873@outlook.com   1330     879.95\n",
       "2   Daisey Sellers     toucan2024@outlook.com   7631     907.58\n",
       "3     Issac Reeves       asarin1958@gmail.com  81168     545.88\n",
       "4  Bradford Kinney     mibound1801@yandex.com  41721     517.49\n",
       "5     Fermina Cobb    kingfisher2013@live.com  16625     889.95\n",
       "6  Merrill Andrews        beechy2059@live.com  14344     472.81\n",
       "7   Claris Pearson     kiwifruit2045@live.com  51609     218.24\n",
       "8  Georgiann Black  tattooage1863@outlook.com   3636     928.54\n",
       "9     Carlos Hicks    lengthen1993@yandex.com   5378     824.22"
      ]
     },
     "execution_count": 17,
     "metadata": {},
     "output_type": "execute_result"
    }
   ],
   "source": [
    "sales_dataframe = sales_dataframe.rename(columns={\n",
    "    \"FullName\":\"Full Name\"\n",
    "})\n",
    "\n",
    "sales_dataframe.head(10)"
   ]
  },
  {
   "cell_type": "code",
   "execution_count": 22,
   "id": "42637ca6-e332-42da-a51c-d99071dc630d",
   "metadata": {},
   "outputs": [
    {
     "data": {
      "text/html": [
       "<div>\n",
       "<style scoped>\n",
       "    .dataframe tbody tr th:only-of-type {\n",
       "        vertical-align: middle;\n",
       "    }\n",
       "\n",
       "    .dataframe tbody tr th {\n",
       "        vertical-align: top;\n",
       "    }\n",
       "\n",
       "    .dataframe thead th {\n",
       "        text-align: right;\n",
       "    }\n",
       "</style>\n",
       "<table border=\"1\" class=\"dataframe\">\n",
       "  <thead>\n",
       "    <tr style=\"text-align: right;\">\n",
       "      <th></th>\n",
       "      <th>Full Name</th>\n",
       "      <th>Email</th>\n",
       "      <th>Zip Code</th>\n",
       "      <th>Sale Price</th>\n",
       "    </tr>\n",
       "  </thead>\n",
       "  <tbody>\n",
       "    <tr>\n",
       "      <th>0</th>\n",
       "      <td>Elwanda White</td>\n",
       "      <td>alyre2036@live.com</td>\n",
       "      <td>9236</td>\n",
       "      <td>84.33</td>\n",
       "    </tr>\n",
       "    <tr>\n",
       "      <th>1</th>\n",
       "      <td>Lyndon Elliott</td>\n",
       "      <td>arrowy1873@outlook.com</td>\n",
       "      <td>1330</td>\n",
       "      <td>879.95</td>\n",
       "    </tr>\n",
       "    <tr>\n",
       "      <th>2</th>\n",
       "      <td>Daisey Sellers</td>\n",
       "      <td>toucan2024@outlook.com</td>\n",
       "      <td>7631</td>\n",
       "      <td>907.58</td>\n",
       "    </tr>\n",
       "    <tr>\n",
       "      <th>3</th>\n",
       "      <td>Issac Reeves</td>\n",
       "      <td>asarin1958@gmail.com</td>\n",
       "      <td>81168</td>\n",
       "      <td>545.88</td>\n",
       "    </tr>\n",
       "    <tr>\n",
       "      <th>4</th>\n",
       "      <td>Bradford Kinney</td>\n",
       "      <td>mibound1801@yandex.com</td>\n",
       "      <td>41721</td>\n",
       "      <td>517.49</td>\n",
       "    </tr>\n",
       "  </tbody>\n",
       "</table>\n",
       "</div>"
      ],
      "text/plain": [
       "         Full Name                   Email  Zip Code  Sale Price\n",
       "0    Elwanda White      alyre2036@live.com      9236       84.33\n",
       "1   Lyndon Elliott  arrowy1873@outlook.com      1330      879.95\n",
       "2   Daisey Sellers  toucan2024@outlook.com      7631      907.58\n",
       "3     Issac Reeves    asarin1958@gmail.com     81168      545.88\n",
       "4  Bradford Kinney  mibound1801@yandex.com     41721      517.49"
      ]
     },
     "execution_count": 22,
     "metadata": {},
     "output_type": "execute_result"
    }
   ],
   "source": [
    "columns = [\"Full Name\", \"Email\", \"Zip Code\", \"Sale Price\"]\n",
    "sales_dataframe.columns = columns\n",
    "sales_dataframe.head()"
   ]
  },
  {
   "cell_type": "code",
   "execution_count": 20,
   "id": "33e2d30c-4f97-485d-a872-4e34d32f42b5",
   "metadata": {},
   "outputs": [],
   "source": [
    "#sales_df.set_index(“Date”) renames rows to \"Date\" (changes 0,1,2,3,4 to years)"
   ]
  },
  {
   "cell_type": "code",
   "execution_count": 21,
   "id": "61c50106-a745-4d5f-a2e7-7de7fd36d8f2",
   "metadata": {},
   "outputs": [],
   "source": [
    "#sales_dataframe = pd.read_csv(\n",
    "   # Path('../Resources/sales.csv'),\n",
    "   # index_col=\"Date\",\n",
    "   # parse_dates=True,\n",
    "   # infer_datetime_format=True)        automatically sets rows to date"
   ]
  },
  {
   "cell_type": "code",
   "execution_count": 23,
   "id": "59126634-1223-4ab6-be94-ea92ee0b38c5",
   "metadata": {},
   "outputs": [],
   "source": [
    "#item_df.isnull() shows true for NaN   \n",
    "#.sum() to see how many NaN, .mean() to see percentage"
   ]
  },
  {
   "cell_type": "code",
   "execution_count": 24,
   "id": "7f529e7a-01b4-42e3-a371-8d3bf85c9ac2",
   "metadata": {},
   "outputs": [],
   "source": [
    "#.dropna() to drop rows with NaN\n",
    "#.fillna(daily_returns.mean()) to fill with mean\n",
    "#daily_returns.loc[:, \"AAPL\"] = daily_returns.loc[:, \"AAPL\"].fillna(0) to lock column and replace NaN with 0"
   ]
  },
  {
   "cell_type": "code",
   "execution_count": 25,
   "id": "8f58c0be-f734-40ba-a62f-77aba17bf452",
   "metadata": {},
   "outputs": [],
   "source": [
    "#.duplicated() if it is a duplicate, then True, .sum() and .mean() can be used in same way as above\n",
    "#.drop_duplicates() to drop "
   ]
  },
  {
   "cell_type": "code",
   "execution_count": 1,
   "id": "98ea4606-6aa5-46ab-ba8e-4391784b3a99",
   "metadata": {},
   "outputs": [],
   "source": [
    "#.dtypes() displays data types\n",
    "#prices.loc[:, \"price_usd\"] = prices.loc[:, \"price_usd\"].str.replace(\"$\", \"\") removes $ sign from column     .str.replace()\n",
    "#prices.loc[:, \"price_usd\"] = prices.loc[:, \"price_usd\"].astype(\"float\") replaces string with float          .astype()"
   ]
  },
  {
   "cell_type": "code",
   "execution_count": 2,
   "id": "ef8e83d5-d332-4984-81b8-57cea3168a27",
   "metadata": {},
   "outputs": [],
   "source": [
    "#.describe  describes data"
   ]
  },
  {
   "cell_type": "code",
   "execution_count": 3,
   "id": "6f972ba9-6e02-4711-8fdb-5f8f64e7d4ad",
   "metadata": {},
   "outputs": [
    {
     "data": {
      "text/plain": [
       "<AxesSubplot:>"
      ]
     },
     "execution_count": 3,
     "metadata": {},
     "output_type": "execute_result"
    },
    {
     "data": {
      "image/png": "[encoded data removed]",
      "text/plain": [
       "<Figure size 432x288 with 1 Axes>"
      ]
     },
     "metadata": {
      "needs_background": "light"
     },
     "output_type": "display_data"
    }
   ],
   "source": [
    "%matplotlib inline\n",
    "import pandas as pd\n",
    "sales_dataframe = pd.DataFrame({\"prices\": [1, 2, 3, 3, 5, 1]})\n",
    "sales_dataframe.plot()"
   ]
  },
  {
   "cell_type": "code",
   "execution_count": 4,
   "id": "0d19412c-eb0a-4fd1-95cc-700f42ff40af",
   "metadata": {},
   "outputs": [
    {
     "data": {
      "text/html": [
       "<div>\n",
       "<style scoped>\n",
       "    .dataframe tbody tr th:only-of-type {\n",
       "        vertical-align: middle;\n",
       "    }\n",
       "\n",
       "    .dataframe tbody tr th {\n",
       "        vertical-align: top;\n",
       "    }\n",
       "\n",
       "    .dataframe thead th {\n",
       "        text-align: right;\n",
       "    }\n",
       "</style>\n",
       "<table border=\"1\" class=\"dataframe\">\n",
       "  <thead>\n",
       "    <tr style=\"text-align: right;\">\n",
       "      <th></th>\n",
       "      <th>AAPL</th>\n",
       "      <th>GOOG</th>\n",
       "    </tr>\n",
       "  </thead>\n",
       "  <tbody>\n",
       "    <tr>\n",
       "      <th>count</th>\n",
       "      <td>10.000000</td>\n",
       "      <td>10.000000</td>\n",
       "    </tr>\n",
       "    <tr>\n",
       "      <th>mean</th>\n",
       "      <td>0.085227</td>\n",
       "      <td>-0.474798</td>\n",
       "    </tr>\n",
       "    <tr>\n",
       "      <th>std</th>\n",
       "      <td>1.346816</td>\n",
       "      <td>0.889636</td>\n",
       "    </tr>\n",
       "    <tr>\n",
       "      <th>min</th>\n",
       "      <td>-2.444412</td>\n",
       "      <td>-2.221930</td>\n",
       "    </tr>\n",
       "    <tr>\n",
       "      <th>25%</th>\n",
       "      <td>-1.000254</td>\n",
       "      <td>-0.888199</td>\n",
       "    </tr>\n",
       "    <tr>\n",
       "      <th>50%</th>\n",
       "      <td>0.589218</td>\n",
       "      <td>-0.668450</td>\n",
       "    </tr>\n",
       "    <tr>\n",
       "      <th>75%</th>\n",
       "      <td>1.034196</td>\n",
       "      <td>0.168208</td>\n",
       "    </tr>\n",
       "    <tr>\n",
       "      <th>max</th>\n",
       "      <td>1.773419</td>\n",
       "      <td>1.004954</td>\n",
       "    </tr>\n",
       "  </tbody>\n",
       "</table>\n",
       "</div>"
      ],
      "text/plain": [
       "            AAPL       GOOG\n",
       "count  10.000000  10.000000\n",
       "mean    0.085227  -0.474798\n",
       "std     1.346816   0.889636\n",
       "min    -2.444412  -2.221930\n",
       "25%    -1.000254  -0.888199\n",
       "50%     0.589218  -0.668450\n",
       "75%     1.034196   0.168208\n",
       "max     1.773419   1.004954"
      ]
     },
     "execution_count": 4,
     "metadata": {},
     "output_type": "execute_result"
    }
   ],
   "source": [
    "import pandas as pd\n",
    "import numpy as np\n",
    "daily_returns = pd.DataFrame(\n",
    "    np.random.randn(10, 2),\n",
    "    index=pd.date_range('1/1/2020', periods=10),\n",
    "    columns=[\"AAPL\", \"GOOG\"])\n",
    "daily_returns.describe()\n",
    "#generates random dataset and describes it"
   ]
  },
  {
   "cell_type": "code",
   "execution_count": 5,
   "id": "c8ec2898-67dd-41ce-87e1-bbd5449d22f6",
   "metadata": {},
   "outputs": [
    {
     "data": {
      "text/plain": [
       "<AxesSubplot:>"
      ]
     },
     "execution_count": 5,
     "metadata": {},
     "output_type": "execute_result"
    },
    {
     "data": {
      "image/png": "[encoded data removed]",
      "text/plain": [
       "<Figure size 432x288 with 1 Axes>"
      ]
     },
     "metadata": {
      "needs_background": "light"
     },
     "output_type": "display_data"
    }
   ],
   "source": [
    "daily_returns.plot()"
   ]
  },
  {
   "cell_type": "code",
   "execution_count": 6,
   "id": "63857602-ed69-4c5a-ad3b-f456fb792c9e",
   "metadata": {},
   "outputs": [
    {
     "data": {
      "text/plain": [
       "<AxesSubplot:>"
      ]
     },
     "execution_count": 6,
     "metadata": {},
     "output_type": "execute_result"
    },
    {
     "data": {
      "image/png": "[encoded data removed]",
      "text/plain": [
       "<Figure size 432x288 with 1 Axes>"
      ]
     },
     "metadata": {
      "needs_background": "light"
     },
     "output_type": "display_data"
    }
   ],
   "source": [
    "daily_returns.plot(kind=\"box\")  #hist,bar,scat"
   ]
  },
  {
   "cell_type": "code",
   "execution_count": 11,
   "id": "5529b113-0c20-4a42-a32e-fe6b075a9986",
   "metadata": {},
   "outputs": [
    {
     "data": {
      "text/plain": [
       "<AxesSubplot:>"
      ]
     },
     "execution_count": 11,
     "metadata": {},
     "output_type": "execute_result"
    },
    {
     "data": {
      "image/png": "[encoded data removed]",
      "text/plain": [
       "<Figure size 432x288 with 1 Axes>"
      ]
     },
     "metadata": {
      "needs_background": "light"
     },
     "output_type": "display_data"
    }
   ],
   "source": [
    "daily_returns.plot(kind=\"bar\")"
   ]
  },
  {
   "cell_type": "code",
   "execution_count": 13,
   "id": "6e8e9152-882e-4357-ba03-cfb60b828095",
   "metadata": {},
   "outputs": [],
   "source": [
    "# Select the first row using iloc\n",
    "#.iloc[0]   0:3 for first three rows (selects 0,1,2)"
   ]
  },
  {
   "cell_type": "code",
   "execution_count": 41,
   "id": "237795bd-fc84-4249-b036-a3d2c5b54529",
   "metadata": {},
   "outputs": [],
   "source": [
    "                                                                # Select the last quarter of 2018 to the first quarter of 2019\n",
    "#.loc['2018-10-01':'2019-03-31']                                 if using loc must supply indexes\n",
    "#.loc['2018-10-01':'2019-03-31'].describe()                      to describe slected indexed"
   ]
  },
  {
   "cell_type": "code",
   "execution_count": 15,
   "id": "aa4b51b6-ddb6-44fb-b217-f82ef4e6d236",
   "metadata": {},
   "outputs": [
    {
     "data": {
      "text/html": [
       "<div>\n",
       "<style scoped>\n",
       "    .dataframe tbody tr th:only-of-type {\n",
       "        vertical-align: middle;\n",
       "    }\n",
       "\n",
       "    .dataframe tbody tr th {\n",
       "        vertical-align: top;\n",
       "    }\n",
       "\n",
       "    .dataframe thead th {\n",
       "        text-align: right;\n",
       "    }\n",
       "</style>\n",
       "<table border=\"1\" class=\"dataframe\">\n",
       "  <thead>\n",
       "    <tr style=\"text-align: right;\">\n",
       "      <th></th>\n",
       "      <th>AAPL</th>\n",
       "      <th>GOOG</th>\n",
       "    </tr>\n",
       "  </thead>\n",
       "  <tbody>\n",
       "    <tr>\n",
       "      <th>2020-01-01</th>\n",
       "      <td>-0.301098</td>\n",
       "      <td>-0.151081</td>\n",
       "    </tr>\n",
       "    <tr>\n",
       "      <th>2020-01-02</th>\n",
       "      <td>-0.412489</td>\n",
       "      <td>-1.183149</td>\n",
       "    </tr>\n",
       "    <tr>\n",
       "      <th>2020-01-03</th>\n",
       "      <td>-0.442286</td>\n",
       "      <td>-1.362068</td>\n",
       "    </tr>\n",
       "    <tr>\n",
       "      <th>2020-01-04</th>\n",
       "      <td>-0.146542</td>\n",
       "      <td>2.248028</td>\n",
       "    </tr>\n",
       "    <tr>\n",
       "      <th>2020-01-05</th>\n",
       "      <td>-2.351704</td>\n",
       "      <td>1.213693</td>\n",
       "    </tr>\n",
       "  </tbody>\n",
       "</table>\n",
       "</div>"
      ],
      "text/plain": [
       "                AAPL      GOOG\n",
       "2020-01-01 -0.301098 -0.151081\n",
       "2020-01-02 -0.412489 -1.183149\n",
       "2020-01-03 -0.442286 -1.362068\n",
       "2020-01-04 -0.146542  2.248028\n",
       "2020-01-05 -2.351704  1.213693"
      ]
     },
     "execution_count": 15,
     "metadata": {},
     "output_type": "execute_result"
    }
   ],
   "source": [
    "#generate a DataFrame with two columns of data\n",
    "daily_returns = pd.DataFrame(\n",
    "    np.random.randn(10, 2),\n",
    "    index=pd.date_range('1/1/2020', periods=10),\n",
    "    columns=[\"AAPL\", \"GOOG\"])\n",
    "daily_returns.head()"
   ]
  },
  {
   "cell_type": "code",
   "execution_count": 16,
   "id": "0fc37229-fda1-44e5-87ba-f57bece5a3b8",
   "metadata": {},
   "outputs": [
    {
     "data": {
      "text/plain": [
       "2020-01-01   -0.301098\n",
       "2020-01-02   -0.412489\n",
       "2020-01-03   -0.442286\n",
       "Freq: D, Name: AAPL, dtype: float64"
      ]
     },
     "execution_count": 16,
     "metadata": {},
     "output_type": "execute_result"
    }
   ],
   "source": [
    "                                                                      # Select the first three rows and the first column\n",
    "daily_returns.iloc[0:3, 0]"
   ]
  },
  {
   "cell_type": "code",
   "execution_count": 29,
   "id": "88a0faf0-0b69-4961-a8c7-d79af3a4d9af",
   "metadata": {},
   "outputs": [
    {
     "data": {
      "text/plain": [
       "-0.15108145225910452"
      ]
     },
     "execution_count": 29,
     "metadata": {},
     "output_type": "execute_result"
    }
   ],
   "source": [
    "daily_returns.iloc[0, 1]                                                #selected first row of second column"
   ]
  },
  {
   "cell_type": "code",
   "execution_count": 30,
   "id": "aed5e919-3a22-464c-acc2-a1ca84cb9017",
   "metadata": {},
   "outputs": [
    {
     "data": {
      "text/plain": [
       "2020-01-06   -0.756238\n",
       "2020-01-07   -0.101238\n",
       "2020-01-08    0.221423\n",
       "2020-01-09   -1.158502\n",
       "2020-01-10   -0.045519\n",
       "Freq: D, Name: GOOG, dtype: float64"
      ]
     },
     "execution_count": 30,
     "metadata": {},
     "output_type": "execute_result"
    }
   ],
   "source": [
    "                                                                        # Select all rows for the \"GOOG\" column (colon for all rows)\n",
    "google_returns = daily_returns.loc[:, \"GOOG\"]\n",
    "google_returns.tail()"
   ]
  },
  {
   "cell_type": "code",
   "execution_count": 32,
   "id": "7dc1d677-6e10-42be-a7d5-b0226b5afd5f",
   "metadata": {},
   "outputs": [
    {
     "data": {
      "text/html": [
       "<div>\n",
       "<style scoped>\n",
       "    .dataframe tbody tr th:only-of-type {\n",
       "        vertical-align: middle;\n",
       "    }\n",
       "\n",
       "    .dataframe tbody tr th {\n",
       "        vertical-align: top;\n",
       "    }\n",
       "\n",
       "    .dataframe thead th {\n",
       "        text-align: right;\n",
       "    }\n",
       "</style>\n",
       "<table border=\"1\" class=\"dataframe\">\n",
       "  <thead>\n",
       "    <tr style=\"text-align: right;\">\n",
       "      <th></th>\n",
       "      <th>AAPL</th>\n",
       "      <th>MSFT</th>\n",
       "    </tr>\n",
       "  </thead>\n",
       "  <tbody>\n",
       "    <tr>\n",
       "      <th>0</th>\n",
       "      <td>-0.788178</td>\n",
       "      <td>-0.221026</td>\n",
       "    </tr>\n",
       "    <tr>\n",
       "      <th>1</th>\n",
       "      <td>-0.567372</td>\n",
       "      <td>-2.137579</td>\n",
       "    </tr>\n",
       "    <tr>\n",
       "      <th>2</th>\n",
       "      <td>-0.463606</td>\n",
       "      <td>0.466464</td>\n",
       "    </tr>\n",
       "    <tr>\n",
       "      <th>3</th>\n",
       "      <td>1.142231</td>\n",
       "      <td>0.243334</td>\n",
       "    </tr>\n",
       "    <tr>\n",
       "      <th>4</th>\n",
       "      <td>1.648963</td>\n",
       "      <td>0.538205</td>\n",
       "    </tr>\n",
       "  </tbody>\n",
       "</table>\n",
       "</div>"
      ],
      "text/plain": [
       "       AAPL      MSFT\n",
       "0 -0.788178 -0.221026\n",
       "1 -0.567372 -2.137579\n",
       "2 -0.463606  0.466464\n",
       "3  1.142231  0.243334\n",
       "4  1.648963  0.538205"
      ]
     },
     "execution_count": 32,
     "metadata": {},
     "output_type": "execute_result"
    }
   ],
   "source": [
    "daily_returns = pd.DataFrame({\n",
    "    'AAPL': np.random.randn(5),\n",
    "    'GOOG': np.random.randn(5),\n",
    "    'MSFT': np.random.randn(5),\n",
    "})\n",
    "daily_returns\n",
    "\n",
    "boolean_filter = [True, False, True]\n",
    "daily_returns.loc[:, boolean_filter]                                  #doesnt select GOOG because boolean is False"
   ]
  },
  {
   "cell_type": "code",
   "execution_count": 33,
   "id": "7bb8b1f5-f4f6-44cd-bafc-9b4ec8c85f1d",
   "metadata": {},
   "outputs": [],
   "source": [
    "#boolean_filter = aapl_returns[\"AAPL\"] > 0                             #boolean filters out values that are less than 0\n",
    "\n",
    "#aapl_returns.loc[boolean_filter]"
   ]
  },
  {
   "cell_type": "code",
   "execution_count": 34,
   "id": "43ef5d37-6d31-4fb9-9a67-3cfa99f4ac2f",
   "metadata": {},
   "outputs": [
    {
     "data": {
      "text/plain": [
       "0     True\n",
       "1    False\n",
       "2    False\n",
       "3     True\n",
       "4     True\n",
       "5     True\n",
       "6    False\n",
       "7     True\n",
       "8     True\n",
       "9     True\n",
       "Name: AAPL, dtype: bool"
      ]
     },
     "execution_count": 34,
     "metadata": {},
     "output_type": "execute_result"
    }
   ],
   "source": [
    "# Create a returns DataFrame for Apple\n",
    "aapl_returns = pd.DataFrame({'AAPL': np.random.randn(10) + 1})\n",
    "\n",
    "# Create the conditional statement\n",
    "# The condition evaluates True if the aapl_returns[''] are greater than 0\n",
    "# The condition evaluates False otherwise\n",
    "aapl_returns[\"AAPL\"] > 0"
   ]
  },
  {
   "cell_type": "code",
   "execution_count": 35,
   "id": "2bfb8e89-8199-4d1e-bd86-25decc6170dc",
   "metadata": {},
   "outputs": [
    {
     "data": {
      "text/html": [
       "<div>\n",
       "<style scoped>\n",
       "    .dataframe tbody tr th:only-of-type {\n",
       "        vertical-align: middle;\n",
       "    }\n",
       "\n",
       "    .dataframe tbody tr th {\n",
       "        vertical-align: top;\n",
       "    }\n",
       "\n",
       "    .dataframe thead th {\n",
       "        text-align: right;\n",
       "    }\n",
       "</style>\n",
       "<table border=\"1\" class=\"dataframe\">\n",
       "  <thead>\n",
       "    <tr style=\"text-align: right;\">\n",
       "      <th></th>\n",
       "      <th>AAPL</th>\n",
       "    </tr>\n",
       "  </thead>\n",
       "  <tbody>\n",
       "    <tr>\n",
       "      <th>1</th>\n",
       "      <td>-0.197286</td>\n",
       "    </tr>\n",
       "    <tr>\n",
       "      <th>2</th>\n",
       "      <td>-0.171005</td>\n",
       "    </tr>\n",
       "    <tr>\n",
       "      <th>4</th>\n",
       "      <td>1.790087</td>\n",
       "    </tr>\n",
       "    <tr>\n",
       "      <th>5</th>\n",
       "      <td>0.881459</td>\n",
       "    </tr>\n",
       "    <tr>\n",
       "      <th>6</th>\n",
       "      <td>-0.171205</td>\n",
       "    </tr>\n",
       "    <tr>\n",
       "      <th>7</th>\n",
       "      <td>1.504754</td>\n",
       "    </tr>\n",
       "    <tr>\n",
       "      <th>8</th>\n",
       "      <td>1.849934</td>\n",
       "    </tr>\n",
       "    <tr>\n",
       "      <th>9</th>\n",
       "      <td>0.628861</td>\n",
       "    </tr>\n",
       "  </tbody>\n",
       "</table>\n",
       "</div>"
      ],
      "text/plain": [
       "       AAPL\n",
       "1 -0.197286\n",
       "2 -0.171005\n",
       "4  1.790087\n",
       "5  0.881459\n",
       "6 -0.171205\n",
       "7  1.504754\n",
       "8  1.849934\n",
       "9  0.628861"
      ]
     },
     "execution_count": 35,
     "metadata": {},
     "output_type": "execute_result"
    }
   ],
   "source": [
    "filter_low = aapl_returns[\"AAPL\"] > 0\n",
    "aapl_returns.loc[filter_low]\n",
    "\n",
    "filter_high = aapl_returns[\"AAPL\"] <= 2\n",
    "aapl_returns.loc[filter_high]                                #creates filtere"
   ]
  },
  {
   "cell_type": "code",
   "execution_count": 36,
   "id": "2264c20f-68bd-4a6b-8397-869cebd0649d",
   "metadata": {},
   "outputs": [
    {
     "data": {
      "text/html": [
       "<div>\n",
       "<style scoped>\n",
       "    .dataframe tbody tr th:only-of-type {\n",
       "        vertical-align: middle;\n",
       "    }\n",
       "\n",
       "    .dataframe tbody tr th {\n",
       "        vertical-align: top;\n",
       "    }\n",
       "\n",
       "    .dataframe thead th {\n",
       "        text-align: right;\n",
       "    }\n",
       "</style>\n",
       "<table border=\"1\" class=\"dataframe\">\n",
       "  <thead>\n",
       "    <tr style=\"text-align: right;\">\n",
       "      <th></th>\n",
       "      <th>AAPL</th>\n",
       "    </tr>\n",
       "  </thead>\n",
       "  <tbody>\n",
       "    <tr>\n",
       "      <th>4</th>\n",
       "      <td>1.790087</td>\n",
       "    </tr>\n",
       "    <tr>\n",
       "      <th>5</th>\n",
       "      <td>0.881459</td>\n",
       "    </tr>\n",
       "    <tr>\n",
       "      <th>7</th>\n",
       "      <td>1.504754</td>\n",
       "    </tr>\n",
       "    <tr>\n",
       "      <th>8</th>\n",
       "      <td>1.849934</td>\n",
       "    </tr>\n",
       "    <tr>\n",
       "      <th>9</th>\n",
       "      <td>0.628861</td>\n",
       "    </tr>\n",
       "  </tbody>\n",
       "</table>\n",
       "</div>"
      ],
      "text/plain": [
       "       AAPL\n",
       "4  1.790087\n",
       "5  0.881459\n",
       "7  1.504754\n",
       "8  1.849934\n",
       "9  0.628861"
      ]
     },
     "execution_count": 36,
     "metadata": {},
     "output_type": "execute_result"
    }
   ],
   "source": [
    "filter_low = aapl_returns[\"AAPL\"] > 0\n",
    "filter_high = aapl_returns[\"AAPL\"] <= 2\n",
    "aapl_returns.loc[filter_low & filter_high]                 #combines filters"
   ]
  },
  {
   "cell_type": "code",
   "execution_count": 37,
   "id": "8d0fce66-6dd3-438f-9f2b-6340893dc94e",
   "metadata": {},
   "outputs": [],
   "source": [
    "                                                            #The following code checks the bitcoin_1 DataFrame:\n",
    "\n",
    "#bitcoin_1['Close'].dtypes"
   ]
  },
  {
   "cell_type": "code",
   "execution_count": 38,
   "id": "f403114f-ed69-470b-baf0-2205252a337f",
   "metadata": {},
   "outputs": [],
   "source": [
    "#bitcoin_1.plot(figsize=(10, 5), title=\"Bitcoin 1\", color=\"blue\")\n",
    "#figsize defines size pf plot  (legend=True,...) at start of parenthesis adds legent  label=\"\" adds"
   ]
  },
  {
   "cell_type": "code",
   "execution_count": 39,
   "id": "0b171f97-0d1a-4d84-9574-285e429809ea",
   "metadata": {},
   "outputs": [],
   "source": [
    "#bitcoin_1['Close'].loc['2015-01-26' : '2015-01-31'].plot(\n",
    "    #legend=True, figsize=(15, 10), title=\"January 2015\", color=\"blue\", label=\"BTC 1\")\n",
    "#bitcoin_2['Close'].loc['2015-01-26' : '2015-01-31'].plot(\n",
    "    #legend=True, figsize=(15, 10), color=\"orange\", label=\"BTC 2\")                            #adds .loc[...] to focus on dates\n",
    "                                                                                              #['2015-02-26 03' : \"2015-02-26 09\"] sets data to hours"
   ]
  },
  {
   "cell_type": "code",
   "execution_count": 40,
   "id": "0e78d0d1-9f36-47bf-bb10-ef9dbf03d67e",
   "metadata": {},
   "outputs": [],
   "source": [
    "        # Use the arbitrage_spread to determine the return percentage of the trades with a positive spread\n",
    "        # Include only the trades that have an arbitrage_spread that’s greater than 0\n",
    "        # Use the bitcoin_1 prices from the day as the denominator\n",
    "\n",
    "#spread_return = arbitrage_spread[arbitrage_spread>0] / bitcoin_1['Close'].loc['2015-10-19']\n",
    "\n",
    "        # Create a profitable_trades DataFrame\n",
    "        # Show only those trades where the spread_return is greater than 1% (.01)\n",
    "#profitable_trades = spread_return[spread_return > .01]\n",
    "#profitable_trades.head(10)\n",
    "\n",
    "        # Print the summary statistics for the profitable_trades DataFrame\n",
    "#profitable_trades.describe()"
   ]
  },
  {
   "cell_type": "code",
   "execution_count": 42,
   "id": "70a56159-b091-44b2-81c0-9ea9f4dea71c",
   "metadata": {},
   "outputs": [],
   "source": [
    "#profit = profitable_trades * bitcoin_1['Close'].loc['2015-10-19']\n",
    "#profit                                                                                      calculates profit"
   ]
  },
  {
   "cell_type": "code",
   "execution_count": 43,
   "id": "1133e7d6-f849-4ae8-a2f0-b042e725c2ef",
   "metadata": {},
   "outputs": [],
   "source": [
    "#profit_per_trade = profit.dropna()\n",
    "#profit_per_trade.describe()                                 drops values that were less than 1% margin, becasue they were eleiminated and produce NaN"
   ]
  },
  {
   "cell_type": "code",
   "execution_count": 44,
   "id": "942f81d7-4a45-457f-9554-b039b20ede9b",
   "metadata": {},
   "outputs": [],
   "source": [
    "#profit_sum = profit_per_trade.sum()\n",
    "#profit_sum                                                                              sums profit"
   ]
  },
  {
   "cell_type": "code",
   "execution_count": null,
   "id": "23c4e976-c92f-4e8a-8005-616bce25abe7",
   "metadata": {},
   "outputs": [],
   "source": [
    "#cumulative_profit = profit_per_trade.cumsum()\n",
    "#cumulative_profit.plot(figsize=(10, 7), title=\"Cumulative Bitcoin Profits\")              plot & calculate cumulative profit"
   ]
  }
 ],
 "metadata": {
  "kernelspec": {
   "display_name": "Python 3 (ipykernel)",
   "language": "python",
   "name": "python3"
  },
  "language_info": {
   "codemirror_mode": {
    "name": "ipython",
    "version": 3
   },
   "file_extension": ".py",
   "mimetype": "text/x-python",
   "name": "python",
   "nbconvert_exporter": "python",
   "pygments_lexer": "ipython3",
   "version": "3.7.13"
  }
 },
 "nbformat": 4,
 "nbformat_minor": 5
}
